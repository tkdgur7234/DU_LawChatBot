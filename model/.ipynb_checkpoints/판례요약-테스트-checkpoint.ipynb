{
 "cells": [
  {
   "cell_type": "markdown",
   "id": "b809c1f3-92dc-4a34-ae43-c82084474ccf",
   "metadata": {},
   "source": [
    "# 0. 로그포맷 생성"
   ]
  },
  {
   "cell_type": "code",
   "execution_count": 8,
   "id": "bafc22b2-ed0b-4b99-a6dd-66c93be18dec",
   "metadata": {},
   "outputs": [
    {
     "name": "stdout",
     "output_type": "stream",
     "text": [
      "TimeLog: 시작 2024-02-21 14:50:15\n"
     ]
    }
   ],
   "source": [
    "from datetime import datetime\n",
    "log_dict = {'실행 명령어': '판례요약-테스트.ipynb 처음부터 순차적으로 실행','TimeLog': {'시작': datetime.now().strftime('%Y-%m-%d %H:%M:%S')}}\n",
    "log_dict['최종 결과 값'] = {}\n",
    "log_dict['계산할 때 사용된 값'] = {}\n",
    "log_dict['파라미터'] = {\n",
    "    'model_path': 'result/2024-02-21 10:36/',\n",
    "    'checkpoint': 'checkpoint-26606',\n",
    "    'num_beams':4,  \n",
    "    'max_length':1024,  \n",
    "    'eos_token_id':1, \n",
    "    'length_penalty':0.5\n",
    "}\n",
    "log_dict['문제당 개별 결과 값'] = []\n",
    "\n",
    "print('TimeLog:', '시작', log_dict['TimeLog']['시작'])"
   ]
  },
  {
   "cell_type": "markdown",
   "id": "369affe8-4e78-449a-b5fd-2e9e78e08eb0",
   "metadata": {},
   "source": [
    "# 1. GPU 확인\n",
    "- 현재 버전에서는 tesla T4 x 2 개의 GPU 로 학습하도록 설정하였습니다.\n",
    "- tesla T4 x 1 로 학습 가능합니다. "
   ]
  },
  {
   "cell_type": "code",
   "execution_count": 9,
   "id": "8c4b0de1-7000-45b5-8338-2f595866615a",
   "metadata": {},
   "outputs": [
    {
     "name": "stdout",
     "output_type": "stream",
     "text": [
      "TimeLog: 2024-02-21 14:50:26\n",
      "\n",
      "Wed Feb 21 14:50:26 2024       \n",
      "+-----------------------------------------------------------------------------+\n",
      "| NVIDIA-SMI 510.108.03   Driver Version: 510.108.03   CUDA Version: 11.7     |\n",
      "|-------------------------------+----------------------+----------------------+\n",
      "| GPU  Name        Persistence-M| Bus-Id        Disp.A | Volatile Uncorr. ECC |\n",
      "| Fan  Temp  Perf  Pwr:Usage/Cap|         Memory-Usage | GPU-Util  Compute M. |\n",
      "|                               |                      |               MIG M. |\n",
      "|===============================+======================+======================|\n",
      "|   0  Tesla T4            Off  | 00000000:3B:00.0 Off |                    0 |\n",
      "| N/A   36C    P0    26W /  70W |   1847MiB / 15360MiB |      0%      Default |\n",
      "|                               |                      |                  N/A |\n",
      "+-------------------------------+----------------------+----------------------+\n",
      "|   1  Tesla T4            Off  | 00000000:5E:00.0 Off |                    0 |\n",
      "| N/A   60C    P0    83W /  70W |   9949MiB / 15360MiB |     95%      Default |\n",
      "|                               |                      |                  N/A |\n",
      "+-------------------------------+----------------------+----------------------+\n",
      "|   2  Tesla T4            Off  | 00000000:AF:00.0 Off |                    0 |\n",
      "| N/A   33C    P0    25W /  70W |   1847MiB / 15360MiB |      0%      Default |\n",
      "|                               |                      |                  N/A |\n",
      "+-------------------------------+----------------------+----------------------+\n",
      "|   3  Tesla T4            Off  | 00000000:D8:00.0 Off |                    0 |\n",
      "| N/A   59C    P0    56W /  70W |   9140MiB / 15360MiB |     97%      Default |\n",
      "|                               |                      |                  N/A |\n",
      "+-------------------------------+----------------------+----------------------+\n",
      "                                                                               \n",
      "+-----------------------------------------------------------------------------+\n",
      "| Processes:                                                                  |\n",
      "|  GPU   GI   CI        PID   Type   Process name                  GPU Memory |\n",
      "|        ID   ID                                                   Usage      |\n",
      "|=============================================================================|\n",
      "+-----------------------------------------------------------------------------+\n"
     ]
    }
   ],
   "source": [
    "import os\n",
    "import logging\n",
    "\n",
    "log_dict['TimeLog']['1. GPU 확인'] = datetime.now().strftime('%Y-%m-%d %H:%M:%S')\n",
    "print('TimeLog:', log_dict['TimeLog']['1. GPU 확인'])\n",
    "print()\n",
    "\n",
    "os.environ[\"CUDA_VISIBLE_DEVICES\"]=\"0\"\n",
    "os.environ[\"TOKENIZERS_PARALLELISM\"]=\"false\"\n",
    "os.environ['TRANSFORMERS_NO_ADVISORY_WARNINGS']='true'\n",
    "\n",
    "logging.disable(logging.INFO) \n",
    "logging.disable(logging.WARNING)\n",
    "\n",
    "model_name = 'gogamza/kobart-base-v2'\n",
    "\n",
    "!nvidia-smi"
   ]
  },
  {
   "cell_type": "markdown",
   "id": "f4e06651-2afb-4a82-9c32-85fc309d8f65",
   "metadata": {},
   "source": [
    "# 2. 전처리 함수 생성"
   ]
  },
  {
   "cell_type": "code",
   "execution_count": 10,
   "id": "9514bbe3-60f5-4def-b96b-1ec998c47a76",
   "metadata": {},
   "outputs": [
    {
     "name": "stdout",
     "output_type": "stream",
     "text": [
      "TimeLog: 2024-02-21 14:50:28\n",
      "\n"
     ]
    }
   ],
   "source": [
    "import os\n",
    "import re\n",
    "import json\n",
    "import tqdm\n",
    "import glob\n",
    "from bs4 import BeautifulSoup\n",
    "from transformers import PreTrainedTokenizerFast\n",
    "\n",
    "log_dict['TimeLog']['2. 전처리 함수 생성'] = datetime.now().strftime('%Y-%m-%d %H:%M:%S')\n",
    "print('TimeLog:', log_dict['TimeLog']['2. 전처리 함수 생성'])\n",
    "print()\n",
    "\n",
    "def load_json_from_dir(dir_path):\n",
    "    json_files = glob.glob(os.path.join(dir_path, '**/*.json'), recursive =True)\n",
    "    json_data = []\n",
    "    for file in json_files:\n",
    "        with open(file, 'r', encoding='utf-8-sig') as f:\n",
    "            temp_json = json.load(f)\n",
    "            doc_id = str(temp_json['info']['id'])\n",
    "            json_data.append(\n",
    "                {\n",
    "                    'id': doc_id,\n",
    "                    'summ_contxt': temp_json['Summary'][0]['summ_contxt'],\n",
    "                    'summ_pass': temp_json['Summary'][0]['summ_pass'],\n",
    "                }\n",
    "            )\n",
    "    return json_data\n",
    "\n",
    "def preprocessing(list_of_dict_data):\n",
    "    tokenizer = PreTrainedTokenizerFast.from_pretrained(model_name)\n",
    "\n",
    "    data_trimmed = []\n",
    "    for data in list_of_dict_data:\n",
    "        data['summ_contxt'] = data['summ_contxt'].replace('_x000D_', '').replace('\\r', '').replace('\\n', ' ').strip()\n",
    "        data['summ_pass'] = data['summ_pass'].replace('_x000D_', '').replace('\\r', '').replace('\\n', ' ').strip()\n",
    "        data_trimmed.append(data)\n",
    "    return data_trimmed"
   ]
  },
  {
   "cell_type": "markdown",
   "id": "15eac40f-6317-4665-9c44-56bf24554cc5",
   "metadata": {},
   "source": [
    "# 3. 평가데이터 로드 및 전처리"
   ]
  },
  {
   "cell_type": "code",
   "execution_count": 11,
   "id": "45bd9d52-9f5f-4889-b9c0-377d7f758687",
   "metadata": {},
   "outputs": [
    {
     "name": "stdout",
     "output_type": "stream",
     "text": [
      "TimeLog: 2024-02-21 14:50:30\n",
      "\n",
      "평가데이터 수: 6651\n",
      "평가데이터 샘플:\n",
      "{\n",
      "  \"id\": \"41018258\",\n",
      "  \"summ_contxt\": \"함정수사라 함은 본래 범의를 가지지 아니한 자에 대하여 수사기관이 사술이나 계략 등을 써서 범의를 유발케 하여 범죄인을 검거하는 수사방법을 말하는 것이므로, 범의를 가진 자에 대하여 범행의 기회를 주거나 범행을 용이하게 한 것에 불과한 경우에는 함정수사라고 말할 수 없다(당원 1983. 4. 12. 선고 82도2433 판결 참조).\",\n",
      "  \"summ_pass\": \"범의를 가진 자에 대하여 범행의 기회를 주거나 범행을 용이하게 한 것에 불과한 경우에는 함정수사라고 말할 수 없다.\"\n",
      "}\n"
     ]
    }
   ],
   "source": [
    "log_dict['TimeLog']['3. 평가데이터 로드 및 전처리'] = datetime.now().strftime('%Y-%m-%d %H:%M:%S')\n",
    "print('TimeLog:', log_dict['TimeLog']['3. 평가데이터 로드 및 전처리'])\n",
    "print()\n",
    "\n",
    "raw_test_json = load_json_from_dir('data/3.Test/')\n",
    "test_dataset = preprocessing(raw_test_json)\n",
    "print('평가데이터 수:', len(test_dataset))\n",
    "print('평가데이터 샘플:') \n",
    "print(json.dumps(test_dataset[0], ensure_ascii=False, indent=2))"
   ]
  },
  {
   "cell_type": "markdown",
   "id": "55235197-6ef7-416c-94f8-7384b2911896",
   "metadata": {},
   "source": [
    "# 4. 요약출력 함수 생성\n",
    "- 선택된 모델을 통해 텍스트를 입력받아 요약텍스트를 출력하는 함수 생성"
   ]
  },
  {
   "cell_type": "code",
   "execution_count": 12,
   "id": "583c676d-ccd3-447b-87a2-6f78c8aa3ac5",
   "metadata": {},
   "outputs": [
    {
     "name": "stdout",
     "output_type": "stream",
     "text": [
      "TimeLog: 2024-02-21 14:50:31\n"
     ]
    }
   ],
   "source": [
    "import os\n",
    "import torch\n",
    "from tqdm import tqdm\n",
    "\n",
    "from transformers import PreTrainedTokenizerFast\n",
    "from transformers import BartForConditionalGeneration\n",
    "from transformers import AutoModel, AutoConfig, AutoTokenizer\n",
    "\n",
    "log_dict['TimeLog']['4. 요약출력 함수 생성'] = datetime.now().strftime('%Y-%m-%d %H:%M:%S')\n",
    "print('TimeLog:', log_dict['TimeLog']['4. 요약출력 함수 생성'])\n",
    "\n",
    "finetune_model_path = os.path.join(log_dict['파라미터']['model_path'], log_dict['파라미터']['checkpoint'])\n",
    "config = AutoConfig.from_pretrained(finetune_model_path)\n",
    "model = BartForConditionalGeneration.from_pretrained(finetune_model_path, config=config).to('cuda')\n",
    "tokenizer = PreTrainedTokenizerFast.from_pretrained(model_name)\n",
    "\n",
    "_ = model.eval()\n",
    "\n",
    "def generate_summary(input_text: str, model, tokenizer):\n",
    "    input_ids = tokenizer.encode(input_text, return_tensors='pt').to('cuda')\n",
    "    summary_ids = model.generate(\n",
    "        torch.tensor(input_ids),  \n",
    "        num_beams=log_dict['파라미터']['num_beams'],  \n",
    "        max_length=log_dict['파라미터']['max_length'],  \n",
    "        eos_token_id=log_dict['파라미터']['eos_token_id'], \n",
    "        length_penalty=log_dict['파라미터']['length_penalty']\n",
    "    )\n",
    "    summary = tokenizer.decode(summary_ids[0].squeeze().tolist(), skip_special_tokens=True)\n",
    "    return summary"
   ]
  },
  {
   "cell_type": "markdown",
   "id": "c561a0ec-50d7-40bb-bb12-fbd0a9cb0d5f",
   "metadata": {},
   "source": [
    "# 5. 요약평가 함수 생성 - Rouge-L"
   ]
  },
  {
   "cell_type": "code",
   "execution_count": 13,
   "id": "1e829bae-4a9a-4707-99f3-60ec8f7310d1",
   "metadata": {},
   "outputs": [
    {
     "name": "stdout",
     "output_type": "stream",
     "text": [
      "TimeLog: 2024-02-21 14:50:34\n"
     ]
    }
   ],
   "source": [
    "from rouge_score import rouge_scorer\n",
    "\n",
    "log_dict['TimeLog']['5. 요약평가 함수 생성'] = datetime.now().strftime('%Y-%m-%d %H:%M:%S')\n",
    "print('TimeLog:', log_dict['TimeLog']['5. 요약평가 함수 생성'])\n",
    "\n",
    "def get_score(target, prediction):\n",
    "    scorer = rouge_scorer.RougeScorer(['rouge1', 'rouge2', 'rouge3', 'rougeL'], use_stemmer=False)\n",
    "    scores = scorer.score(target=target, prediction=prediction)\n",
    "    return scores['rougeL'].precision, scores['rougeL'].recall, scores['rougeL'].fmeasure"
   ]
  },
  {
   "cell_type": "markdown",
   "id": "0adb6950-3085-4612-859c-3245529a9fb0",
   "metadata": {},
   "source": [
    "# 6. 모델평가\n",
    "- 학습된 모델을 바탕으로 test 데이터의 요약문을 에측 후 저장\n",
    "- 모든 테스트 데이터에 대한 요약문이 생성되면 rouge-L 로 평가"
   ]
  },
  {
   "cell_type": "code",
   "execution_count": 14,
   "id": "fc0b2df8-44e7-4a45-992f-cad16f30cdbb",
   "metadata": {},
   "outputs": [
    {
     "name": "stdout",
     "output_type": "stream",
     "text": [
      "TimeLog: 모델평가 시작 2024-02-21 14:50:34\n"
     ]
    },
    {
     "name": "stderr",
     "output_type": "stream",
     "text": [
      "  0%|          | 0/6651 [00:00<?, ?it/s]/tmp/ipykernel_1483/458175977.py:22: UserWarning: To copy construct from a tensor, it is recommended to use sourceTensor.clone().detach() or sourceTensor.clone().detach().requires_grad_(True), rather than torch.tensor(sourceTensor).\n",
      "  torch.tensor(input_ids),\n",
      "100%|██████████| 6651/6651 [1:29:32<00:00,  1.24it/s]"
     ]
    },
    {
     "name": "stdout",
     "output_type": "stream",
     "text": [
      "\n",
      "\n",
      "TimeLog: 모델평가 종료 2024-02-21 16:20:07\n"
     ]
    },
    {
     "name": "stderr",
     "output_type": "stream",
     "text": [
      "\n"
     ]
    }
   ],
   "source": [
    "import torch\n",
    "from tqdm import tqdm\n",
    "\n",
    "log_dict['TimeLog']['6. 모델평가 - 시작'] = datetime.now().strftime('%Y-%m-%d %H:%M:%S')\n",
    "print('TimeLog: 모델평가 시작', log_dict['TimeLog']['6. 모델평가 - 시작'])\n",
    "\n",
    "results = []\n",
    "for doc in tqdm(test_dataset):\n",
    "    pred = generate_summary(input_text=doc['summ_contxt'], model=model, tokenizer=tokenizer)\n",
    "    \n",
    "    truth = doc['summ_pass']\n",
    "    truth_encoded = ' '.join([str(token) for token in tokenizer.encode(doc['summ_pass'])])\n",
    "    pred_encoded = ' '.join([str(token) for token in tokenizer.encode(pred)])\n",
    "    score = get_score(truth_encoded, pred_encoded)\n",
    "    results.append(\n",
    "        {\n",
    "            'id': doc['id'],\n",
    "            'truth': truth,\n",
    "            'pred': pred,\n",
    "            'score': {\n",
    "                'precision': score[0],\n",
    "                'recall': score[1],\n",
    "                'fmeasure': score[2]\n",
    "            }\n",
    "        }\n",
    "    )\n",
    "\n",
    "result_each_text = []\n",
    "for result in results:\n",
    "    log_dict['문제당 개별 결과 값'].append(result)\n",
    "\n",
    "log_dict['TimeLog']['6. 모델평가 - 종료'] = datetime.now().strftime('%Y-%m-%d %H:%M:%S')\n",
    "print()\n",
    "print()\n",
    "print('TimeLog: 모델평가 종료', log_dict['TimeLog']['6. 모델평가 - 종료'])"
   ]
  },
  {
   "cell_type": "markdown",
   "id": "d9a38f67-fcf3-4432-b30c-9ab8c05078a4",
   "metadata": {},
   "source": [
    "# 7. 모델 평가결과 계산"
   ]
  },
  {
   "cell_type": "code",
   "execution_count": 15,
   "id": "92ed35c4-e56a-4d38-aea4-73e8af2010ae",
   "metadata": {},
   "outputs": [
    {
     "name": "stdout",
     "output_type": "stream",
     "text": [
      "TimeLog: 2024-02-21 16:20:07\n"
     ]
    }
   ],
   "source": [
    "import json\n",
    "from datetime import datetime\n",
    "\n",
    "\n",
    "log_dict['TimeLog']['7. 모델 평가결과 계산'] = datetime.now().strftime('%Y-%m-%d %H:%M:%S')\n",
    "print('TimeLog:', log_dict['TimeLog']['7. 모델 평가결과 계산'])\n",
    "\n",
    "scores = [[], [], []]\n",
    "for doc in results:\n",
    "    score = doc['score']\n",
    "    scores[0].append(score['precision'])\n",
    "    scores[1].append(score['recall'])\n",
    "    scores[2].append(score['fmeasure'])\n",
    "\n",
    "average_precision = sum(scores[0]) / len(scores[0])\n",
    "average_recall = sum(scores[1]) / len(scores[1])\n",
    "average_fmeasure = sum(scores[2]) / len(scores[2])\n",
    "\n",
    "log_dict['계산할 때 사용된 값'] = {\n",
    "    'avg_precision': average_precision,\n",
    "    'avg_recall': average_recall\n",
    "}\n",
    "\n",
    "log_dict['최종 결과 값'] = {\n",
    "    '(rouge-L) avg_fmeasure': average_fmeasure\n",
    "}\n"
   ]
  },
  {
   "cell_type": "code",
   "execution_count": 16,
   "id": "f20686d3-c64d-453c-8426-31ae2bc2d0d7",
   "metadata": {},
   "outputs": [
    {
     "name": "stdout",
     "output_type": "stream",
     "text": [
      "TimeLog: 종료 2024-02-21 16:20:07\n"
     ]
    }
   ],
   "source": [
    "log_dict['TimeLog']['종료'] = datetime.now().strftime('%Y-%m-%d %H:%M:%S')\n",
    "print('TimeLog: 종료', log_dict['TimeLog']['종료'])\n",
    "with open('%s-모델성능평가수행로그.json' % log_dict['파라미터']['model_path'].replace('result/', '').replace('/', '').strip(), 'w') as outfile:\n",
    "    json.dump(log_dict, outfile, ensure_ascii=False, indent=4)"
   ]
  },
  {
   "cell_type": "code",
   "execution_count": null,
   "id": "35d53243-2e99-4865-b5f9-365cc88194b0",
   "metadata": {},
   "outputs": [],
   "source": []
  },
  {
   "cell_type": "code",
   "execution_count": null,
   "id": "6a398eb2-9cd9-46c0-9a17-2fd3f32008ff",
   "metadata": {},
   "outputs": [],
   "source": []
  },
  {
   "cell_type": "code",
   "execution_count": null,
   "id": "eefc8231-8ea3-430d-b56b-b3cd017b8c69",
   "metadata": {},
   "outputs": [],
   "source": []
  }
 ],
 "metadata": {
  "kernelspec": {
   "display_name": "Python 3 (ipykernel)",
   "language": "python",
   "name": "python3"
  },
  "language_info": {
   "codemirror_mode": {
    "name": "ipython",
    "version": 3
   },
   "file_extension": ".py",
   "mimetype": "text/x-python",
   "name": "python",
   "nbconvert_exporter": "python",
   "pygments_lexer": "ipython3",
   "version": "3.10.11"
  }
 },
 "nbformat": 4,
 "nbformat_minor": 5
}
